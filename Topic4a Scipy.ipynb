{
 "cells": [
  {
   "cell_type": "markdown",
   "metadata": {},
   "source": [
    "# Topic 4: Scipy and Numerical Techniques"
   ]
  },
  {
   "cell_type": "code",
   "execution_count": 2,
   "metadata": {},
   "outputs": [],
   "source": [
    "import numpy as np\n",
    "import matplotlib.pyplot as plt"
   ]
  },
  {
   "cell_type": "markdown",
   "metadata": {},
   "source": [
    "We are now ready to apply some of our basic know-how to basic numerical problems like finding solutions of equations, ODEs, and integrating.   "
   ]
  },
  {
   "cell_type": "markdown",
   "metadata": {},
   "source": [
    "Before we get started with examples, we have to learn a useful trick involving lambda functions.  There is some deep origin of this idea in computer science, but our superficial level, they give us a way of defining a function while we are doing something else"
   ]
  },
  {
   "cell_type": "markdown",
   "metadata": {},
   "source": [
    "Here for example, is a function that adds x and y"
   ]
  },
  {
   "cell_type": "code",
   "execution_count": 3,
   "metadata": {},
   "outputs": [
    {
     "data": {
      "text/plain": [
       "3"
      ]
     },
     "execution_count": 3,
     "metadata": {},
     "output_type": "execute_result"
    }
   ],
   "source": [
    "def add(x,y):\n",
    "    return x+y\n",
    "add(1,2)"
   ]
  },
  {
   "cell_type": "markdown",
   "metadata": {},
   "source": [
    "We can do the same wit a lambda function"
   ]
  },
  {
   "cell_type": "code",
   "execution_count": 4,
   "metadata": {},
   "outputs": [
    {
     "data": {
      "text/plain": [
       "<function __main__.<lambda>(x, y)>"
      ]
     },
     "execution_count": 4,
     "metadata": {},
     "output_type": "execute_result"
    }
   ],
   "source": [
    "lambda x,y:x+y"
   ]
  },
  {
   "cell_type": "markdown",
   "metadata": {},
   "source": [
    "So for I have just created the fucntion without giving it a name.  I can act on it too by"
   ]
  },
  {
   "cell_type": "code",
   "execution_count": 5,
   "metadata": {},
   "outputs": [
    {
     "data": {
      "text/plain": [
       "8"
      ]
     },
     "execution_count": 5,
     "metadata": {},
     "output_type": "execute_result"
    }
   ],
   "source": [
    "(lambda x,y:x+y)(3,5)"
   ]
  },
  {
   "cell_type": "markdown",
   "metadata": {},
   "source": [
    "So we can think of lambda x,y: as the same thing as add(x,y) but we never stopped to define it.  At this moment, it might seem stange that we would need such a thing.  However, when it comes to solving equations, the arguements of our numerical technique is a function! We integrate functions and minimize functions, for example, so if we have a code that does that, the input is a function, not a piece of data.  lambda lets us do this easily."
   ]
  },
  {
   "cell_type": "markdown",
   "metadata": {},
   "source": [
    "### Newton's method"
   ]
  },
  {
   "cell_type": "markdown",
   "metadata": {},
   "source": [
    "The best way to understand both how these libraries work and what they do is to try to solve a simple equation numerically. For example, let's that the quadratic equation $x^2 +2x +1 =0$.  We know the solution, $x=-1$ already, but those will be good checks our method"
   ]
  },
  {
   "cell_type": "code",
   "execution_count": 6,
   "metadata": {},
   "outputs": [],
   "source": [
    "from scipy import optimize"
   ]
  },
  {
   "cell_type": "code",
   "execution_count": 7,
   "metadata": {},
   "outputs": [],
   "source": [
    "def f(x):\n",
    "    return x**2+2*x+1"
   ]
  },
  {
   "cell_type": "code",
   "execution_count": 8,
   "metadata": {},
   "outputs": [
    {
     "data": {
      "text/plain": [
       "-0.9999999805834525"
      ]
     },
     "execution_count": 8,
     "metadata": {},
     "output_type": "execute_result"
    }
   ],
   "source": [
    "optimize.newton(f,1)"
   ]
  },
  {
   "cell_type": "markdown",
   "metadata": {},
   "source": [
    "Okay, so it finds the solution pretty well.  We can see we could have done the same directly with our lambda function"
   ]
  },
  {
   "cell_type": "code",
   "execution_count": 9,
   "metadata": {},
   "outputs": [
    {
     "data": {
      "text/plain": [
       "-0.9999999805834525"
      ]
     },
     "execution_count": 9,
     "metadata": {},
     "output_type": "execute_result"
    }
   ],
   "source": [
    "optimize.newton(lambda x:x**2+2*x+1,1)"
   ]
  },
  {
   "cell_type": "markdown",
   "metadata": {},
   "source": [
    "This is why it is nice to have these lambda functions, because it saves us space so that we aren't defining all kinds of boring functions.  We save our functions for things that are actually useful"
   ]
  },
  {
   "cell_type": "markdown",
   "metadata": {},
   "source": [
    "Combining back to our problem: what do we think of this answer?  This is a pretty simple equation and while we are close, this is not just some machine precision error, since there are many incorret digits.  What is going on and how can we do better?"
   ]
  },
  {
   "cell_type": "markdown",
   "metadata": {},
   "source": [
    "Let's make our own Newton's method code and figure out what's going on.  First, this piece code took a function as an input.  So we must be able to define a function where the name of the function is the input:"
   ]
  },
  {
   "cell_type": "code",
   "execution_count": 10,
   "metadata": {},
   "outputs": [],
   "source": [
    "def test_func(func): #func is the name of some function that take 2 inputs\n",
    "    return func(1,2) #return the function evaluated at (1,2)"
   ]
  },
  {
   "cell_type": "code",
   "execution_count": 11,
   "metadata": {},
   "outputs": [
    {
     "data": {
      "text/plain": [
       "3"
      ]
     },
     "execution_count": 11,
     "metadata": {},
     "output_type": "execute_result"
    }
   ],
   "source": [
    "test_func(add)  # Yay! It works"
   ]
  },
  {
   "cell_type": "markdown",
   "metadata": {},
   "source": [
    "When a one function uses another function as its arguement, that is when we can use the lambda function instead.  It"
   ]
  },
  {
   "cell_type": "code",
   "execution_count": 12,
   "metadata": {},
   "outputs": [
    {
     "data": {
      "text/plain": [
       "201"
      ]
     },
     "execution_count": 12,
     "metadata": {},
     "output_type": "execute_result"
    }
   ],
   "source": [
    "test_func(lambda x,y:x**2+100*y)"
   ]
  },
  {
   "cell_type": "markdown",
   "metadata": {},
   "source": [
    "So we know how to feed a function to another function.  But what exactly are we trying to do? Newton's method is supposed to take our function and approximate it as a line based on the point we start $x_0$, \n",
    "$$y = f'(x_0)(x-x_0) + f(x_0)$$  \n",
    "It then finds the point where $y=0$, we'll call that $x_1$, whose solution is\n",
    "$$x_1 = x_0 - f(x_0)/f'(x_0)$$\n",
    "We can guess this is probably close to the solution than where we started, so let's use repeat with $x_1 \\to x_0$"
   ]
  },
  {
   "cell_type": "markdown",
   "metadata": {},
   "source": [
    "Problem: if I want to make a code that does this, I need to tell it when to stop.  Otherwise it will just repeat forever.  I that two options: stop when my answer is close enough to zero or stop after some fixed number of steps (or what ever comes first)"
   ]
  },
  {
   "cell_type": "code",
   "execution_count": 15,
   "metadata": {},
   "outputs": [],
   "source": [
    "def my_newton(f,fprime,x0,err):\n",
    "    x1=x0-f(x0)/float(fprime(x0)) # new point according to newton\n",
    "    if abs(f(x1))>err:  # need the absolute value here\n",
    "        print(f(x1))\n",
    "        return my_newton(f,fprime,x1,err) # repeat if the error is too large\n",
    "    else:\n",
    "        return x1 # return x1 when we are happy"
   ]
  },
  {
   "cell_type": "code",
   "execution_count": 16,
   "metadata": {},
   "outputs": [
    {
     "name": "stdout",
     "output_type": "stream",
     "text": [
      "30.25\n",
      "7.5625\n",
      "1.890625\n",
      "0.47265625\n",
      "0.1181640625\n",
      "0.029541015625\n",
      "0.00738525390625\n",
      "0.0018463134765625\n",
      "0.000461578369140625\n",
      "0.00011539459228515625\n",
      "2.8848648071289062e-05\n",
      "7.212162017822266e-06\n",
      "1.8030405044555664e-06\n",
      "4.507601261138916e-07\n",
      "1.126900315284729e-07\n"
     ]
    },
    {
     "data": {
      "text/plain": [
       "-0.9998321533203125"
      ]
     },
     "execution_count": 16,
     "metadata": {},
     "output_type": "execute_result"
    }
   ],
   "source": [
    "my_newton(f,lambda x:2*x+2,10,0.0000001)"
   ]
  },
  {
   "cell_type": "markdown",
   "metadata": {},
   "source": [
    "Wow!  That's pretty cool.  So what did we learn? This method needs two things that we didn't feed the scipy function: (a) the derivative of f and (b) a measure of when to stop.  Presumably those are options inside the function that we didn't use?"
   ]
  },
  {
   "cell_type": "markdown",
   "metadata": {},
   "source": [
    "Scipy isn't going to calculate derivatives for us, so it must be approximating the derivative some other way.  Indeed that is what's happening: if you don't provide it with the derivative, it uses something called the secant method.  To use the true Newton's method, you need to give it the derivative as well:"
   ]
  },
  {
   "cell_type": "code",
   "execution_count": 18,
   "metadata": {},
   "outputs": [
    {
     "name": "stdout",
     "output_type": "stream",
     "text": [
      "-0.9999999893281472\n"
     ]
    }
   ],
   "source": [
    "newton1=optimize.newton(lambda x:x**2+2*x+1,10,fprime=lambda x:2*x+2)\n",
    "print(newton1)"
   ]
  },
  {
   "cell_type": "code",
   "execution_count": 20,
   "metadata": {},
   "outputs": [
    {
     "name": "stdout",
     "output_type": "stream",
     "text": [
      "-0.999999984901414\n"
     ]
    }
   ],
   "source": [
    "sectan1=optimize.newton(lambda x:x**2+2*x+1,10)\n",
    "print(sectan1)"
   ]
  },
  {
   "cell_type": "code",
   "execution_count": 21,
   "metadata": {},
   "outputs": [
    {
     "data": {
      "text/plain": [
       "4.426733202222977e-09"
      ]
     },
     "execution_count": 21,
     "metadata": {},
     "output_type": "execute_result"
    }
   ],
   "source": [
    "abs(newton1-sectan1)"
   ]
  },
  {
   "cell_type": "markdown",
   "metadata": {},
   "source": [
    "First,let's make a guess that the error is set at $10^{-16}$ because we are using 16 bit numbers:"
   ]
  },
  {
   "cell_type": "code",
   "execution_count": 22,
   "metadata": {},
   "outputs": [
    {
     "name": "stdout",
     "output_type": "stream",
     "text": [
      "30.25\n",
      "7.5625\n",
      "1.890625\n",
      "0.47265625\n",
      "0.1181640625\n",
      "0.029541015625\n",
      "0.00738525390625\n",
      "0.0018463134765625\n",
      "0.000461578369140625\n",
      "0.00011539459228515625\n",
      "2.8848648071289062e-05\n",
      "7.212162017822266e-06\n",
      "1.8030405044555664e-06\n",
      "4.507601261138916e-07\n",
      "1.126900315284729e-07\n",
      "2.8172507882118225e-08\n",
      "7.043126970529556e-09\n",
      "1.760781742632389e-09\n",
      "4.4019543565809727e-10\n",
      "1.1004885891452432e-10\n",
      "2.751221472863108e-11\n",
      "6.87805368215777e-12\n",
      "1.7195134205394424e-12\n",
      "4.298783551348606e-13\n",
      "1.0746958878371515e-13\n",
      "2.6867397195928788e-14\n",
      "6.661338147750939e-15\n",
      "1.6653345369377348e-15\n",
      "4.440892098500626e-16\n",
      "1.1102230246251565e-16\n",
      "-0.9999999945297885\n"
     ]
    }
   ],
   "source": [
    "myresult=my_newton(f,lambda x:2*x+2,10,10**(-16))\n",
    "print(myresult)"
   ]
  },
  {
   "cell_type": "code",
   "execution_count": 23,
   "metadata": {},
   "outputs": [
    {
     "data": {
      "text/plain": [
       "5.201641339880325e-09"
      ]
     },
     "execution_count": 23,
     "metadata": {},
     "output_type": "execute_result"
    }
   ],
   "source": [
    "newton1-myresult"
   ]
  },
  {
   "cell_type": "markdown",
   "metadata": {},
   "source": [
    "This seems like a good guess, but when we look at the documention, it seems more like what they did was stop when the difference between x1 and x0 gets small.  It takes an optional input called \"tol\" whose default is 1.48e-08.  Let's see what happens if we do that instead:"
   ]
  },
  {
   "cell_type": "code",
   "execution_count": 25,
   "metadata": {},
   "outputs": [],
   "source": [
    "def my_newton2(f,fprime,x0,err):\n",
    "    x1=x0-f(x0)/float(fprime(x0)) # new point according to newton\n",
    "    if abs(x1-x0)>err:  # need the absolute value here\n",
    "        print(f(x1))\n",
    "        return my_newton2(f,fprime,x1,err) # repeat if the error is too large\n",
    "    else:\n",
    "        return x1"
   ]
  },
  {
   "cell_type": "code",
   "execution_count": 26,
   "metadata": {},
   "outputs": [
    {
     "name": "stdout",
     "output_type": "stream",
     "text": [
      "30.25\n",
      "7.5625\n",
      "1.890625\n",
      "0.47265625\n",
      "0.1181640625\n",
      "0.029541015625\n",
      "0.00738525390625\n",
      "0.0018463134765625\n",
      "0.000461578369140625\n",
      "0.00011539459228515625\n",
      "2.8848648071289062e-05\n",
      "7.212162017822266e-06\n",
      "1.8030405044555664e-06\n",
      "4.507601261138916e-07\n",
      "1.126900315284729e-07\n",
      "2.8172507882118225e-08\n",
      "7.043126970529556e-09\n",
      "1.760781742632389e-09\n",
      "4.4019543565809727e-10\n",
      "1.1004885891452432e-10\n",
      "2.751221472863108e-11\n",
      "6.87805368215777e-12\n",
      "1.7195134205394424e-12\n",
      "4.298783551348606e-13\n",
      "1.0746958878371515e-13\n",
      "2.6867397195928788e-14\n",
      "6.661338147750939e-15\n",
      "1.6653345369377348e-15\n",
      "4.440892098500626e-16\n",
      "-0.9999999893281472\n"
     ]
    }
   ],
   "source": [
    "myresult2=my_newton2(f,lambda x:2*x+2,10,1.48e-08)\n",
    "print(myresult2)"
   ]
  },
  {
   "cell_type": "code",
   "execution_count": 27,
   "metadata": {},
   "outputs": [
    {
     "data": {
      "text/plain": [
       "-0.9999999893281472"
      ]
     },
     "execution_count": 27,
     "metadata": {},
     "output_type": "execute_result"
    }
   ],
   "source": [
    "newton1"
   ]
  },
  {
   "cell_type": "code",
   "execution_count": 28,
   "metadata": {},
   "outputs": [
    {
     "data": {
      "text/plain": [
       "0.0"
      ]
     },
     "execution_count": 28,
     "metadata": {},
     "output_type": "execute_result"
    }
   ],
   "source": [
    "newton1-myresult2"
   ]
  },
  {
   "cell_type": "markdown",
   "metadata": {},
   "source": [
    "We hit exactly the same number as Scipy! We can even get back to our old answer in scipy by replacing "
   ]
  },
  {
   "cell_type": "code",
   "execution_count": 29,
   "metadata": {},
   "outputs": [],
   "source": [
    "newton2=optimize.newton(lambda x:x**2+2*x+1,10,fprime=lambda x:2*x+2,tol=10**(-16))"
   ]
  },
  {
   "cell_type": "code",
   "execution_count": 32,
   "metadata": {},
   "outputs": [
    {
     "data": {
      "text/plain": [
       "0.0"
      ]
     },
     "execution_count": 32,
     "metadata": {},
     "output_type": "execute_result"
    }
   ],
   "source": [
    "newton2-myresult"
   ]
  },
  {
   "cell_type": "markdown",
   "metadata": {},
   "source": [
    "Now the one thing that is nice about scipy is that it has more methods built in. We have a pretty good idea of what scipy is doing, although it is definitely coded up in a better way that is probably faster and can handle situations where we don't actually converge (e.g. scipy has a max number of iterations so it doesn't get stuck in an infinite loop).  Yet, based on what we have seen, we can imagine that if we gave it more information about the function, it could probably do better.  For example, we could improve Newton's method to use the second derivative too!  Scipy has this built in for us"
   ]
  },
  {
   "cell_type": "code",
   "execution_count": 34,
   "metadata": {},
   "outputs": [
    {
     "name": "stdout",
     "output_type": "stream",
     "text": [
      "-0.9999999957639969\n"
     ]
    }
   ],
   "source": [
    "fprime2=optimize.newton(lambda x:x**2+2*x+1,10,fprime=lambda x:2*x+2,fprime2=lambda x:2.,tol=10**(-16))\n",
    "print(fprime2)"
   ]
  },
  {
   "cell_type": "code",
   "execution_count": 35,
   "metadata": {},
   "outputs": [
    {
     "name": "stdout",
     "output_type": "stream",
     "text": [
      "4.236003103841313e-09\n",
      "1.0671852845867136e-08\n"
     ]
    }
   ],
   "source": [
    "print(fprime2+1)\n",
    "print(newton1+1)"
   ]
  },
  {
   "cell_type": "markdown",
   "metadata": {},
   "source": [
    "For all our effort, it seems like we have hit a wall.  We can't do much better than what we have.  What's the problem?  Right now we have hit the point where the difference between x1 and x0 is 10^(-16) which is around the machine error for generic floating point numbers.  Presumably if we want to do better, we are going to have to make the working precision higher."
   ]
  },
  {
   "cell_type": "code",
   "execution_count": 36,
   "metadata": {},
   "outputs": [
    {
     "name": "stdout",
     "output_type": "stream",
     "text": [
      "30.25\n",
      "7.5625\n",
      "1.890625\n",
      "0.47265625\n",
      "0.1181640625\n",
      "0.029541015625\n",
      "0.00738525390625\n",
      "0.0018463134765625\n",
      "0.000461578369140625\n",
      "0.00011539459228515625\n",
      "2.8848648071289062e-05\n",
      "7.212162017822266e-06\n",
      "1.8030405044555664e-06\n",
      "4.507601261138916e-07\n",
      "1.126900315284729e-07\n",
      "2.8172507882118225e-08\n",
      "7.043126970529556e-09\n",
      "1.760781742632389e-09\n",
      "4.4019543565809727e-10\n",
      "1.1004885891452432e-10\n",
      "2.751221472863108e-11\n",
      "6.87805368215777e-12\n",
      "1.7195134205394424e-12\n",
      "4.298783551348606e-13\n",
      "1.0746958878371515e-13\n",
      "2.6867397195928788e-14\n",
      "6.661338147750939e-15\n",
      "1.6653345369377348e-15\n",
      "4.440892098500626e-16\n",
      "1.1102230246251565e-16\n",
      "0.0\n"
     ]
    },
    {
     "data": {
      "text/plain": [
       "-0.9999999945297885"
      ]
     },
     "execution_count": 36,
     "metadata": {},
     "output_type": "execute_result"
    }
   ],
   "source": [
    "my_newton2(f,lambda x:2*x+2,10,1.48e-64)"
   ]
  },
  {
   "cell_type": "markdown",
   "metadata": {},
   "source": [
    "Let's try increasing the working precision of our code using high precision numbers"
   ]
  },
  {
   "cell_type": "code",
   "execution_count": 37,
   "metadata": {},
   "outputs": [],
   "source": [
    "from decimal import Decimal"
   ]
  },
  {
   "cell_type": "code",
   "execution_count": 38,
   "metadata": {},
   "outputs": [
    {
     "data": {
      "text/plain": [
       "Decimal('0.1000000000000000055511151231257827021181583404541015625')"
      ]
     },
     "execution_count": 38,
     "metadata": {},
     "output_type": "execute_result"
    }
   ],
   "source": [
    "Decimal(0.1)"
   ]
  },
  {
   "cell_type": "code",
   "execution_count": 39,
   "metadata": {},
   "outputs": [
    {
     "ename": "SyntaxError",
     "evalue": "invalid syntax (4162670544.py, line 5)",
     "output_type": "error",
     "traceback": [
      "\u001b[0;36m  File \u001b[0;32m\"/var/folders/vh/rcz751b57355h3qzj37sc3080000gp/T/ipykernel_14114/4162670544.py\"\u001b[0;36m, line \u001b[0;32m5\u001b[0m\n\u001b[0;31m    print Decimal(f(x1))\u001b[0m\n\u001b[0m          ^\u001b[0m\n\u001b[0;31mSyntaxError\u001b[0m\u001b[0;31m:\u001b[0m invalid syntax\n"
     ]
    }
   ],
   "source": [
    "def my_newton3(f,fprime,x0,err):\n",
    "    xs=Decimal(x0)\n",
    "    x1=xs-Decimal(f(xs))/Decimal(fprime(xs)) # new point according to newton\n",
    "    if abs(Decimal(f(x1)))>Decimal(err):  # need the absolute value here\n",
    "        print Decimal(f(x1))\n",
    "        return my_newton3(f,fprime,x1,err) # repeat if the error is too large\n",
    "    else:\n",
    "        return x1"
   ]
  },
  {
   "cell_type": "code",
   "execution_count": 30,
   "metadata": {},
   "outputs": [
    {
     "name": "stdout",
     "output_type": "stream",
     "text": [
      "30.25\n",
      "7.5625\n",
      "1.890625\n",
      "0.47265625\n",
      "0.1181640625\n",
      "0.029541015625\n",
      "0.00738525390625\n",
      "0.0018463134765625\n",
      "0.000461578369140625\n",
      "0.00011539459228515625\n",
      "0.0000288486480712890625\n",
      "0.000007212162017822265625\n",
      "0.00000180304050445556640625\n",
      "4.507601261138916015625E-7\n",
      "1.126900315284729003906E-7\n",
      "2.81725078821182250973E-8\n",
      "7.0431269705295562748E-9\n",
      "1.7607817426323890684E-9\n",
      "4.401954356580972670E-10\n",
      "1.100488589145243165E-10\n",
      "2.75122147286310790E-11\n",
      "6.8780536821577699E-12\n",
      "1.7195134205394430E-12\n",
      "4.298783551348607E-13\n",
      "1.074695887837150E-13\n",
      "2.68673971959283E-14\n",
      "6.7168492989822E-15\n",
      "1.6792123247455E-15\n",
      "4.198030811861E-16\n",
      "1.049507702966E-16\n",
      "2.62376925747E-17\n",
      "6.5594231434E-18\n",
      "1.6398557855E-18\n",
      "4.099639466E-19\n",
      "1.024909865E-19\n",
      "2.56227470E-20\n",
      "6.4056866E-21\n",
      "1.6014220E-21\n",
      "4.003550E-22\n",
      "1.000887E-22\n",
      "2.50223E-23\n",
      "6.2560E-24\n",
      "1.5641E-24\n",
      "3.905E-25\n",
      "9.78E-26\n",
      "2.46E-26\n",
      "5.6E-27\n",
      "1.5E-27\n",
      "6E-28\n"
     ]
    },
    {
     "data": {
      "text/plain": [
       "Decimal('-0.9999999999999890669998056123')"
      ]
     },
     "execution_count": 30,
     "metadata": {},
     "output_type": "execute_result"
    }
   ],
   "source": [
    "my_newton3(f,lambda x:2*x+2,10,1.48e-64)"
   ]
  },
  {
   "cell_type": "code",
   "execution_count": 40,
   "metadata": {},
   "outputs": [
    {
     "data": {
      "text/plain": [
       "Decimal('1.067185284586713578391936607658863067626953125E-8')"
      ]
     },
     "execution_count": 40,
     "metadata": {},
     "output_type": "execute_result"
    }
   ],
   "source": [
    "Decimal(newton1+1)"
   ]
  },
  {
   "cell_type": "code",
   "execution_count": 41,
   "metadata": {},
   "outputs": [
    {
     "data": {
      "text/plain": [
       "Decimal('1.09330001943877E-14')"
      ]
     },
     "execution_count": 41,
     "metadata": {},
     "output_type": "execute_result"
    }
   ],
   "source": [
    "Decimal('-0.9999999999999890669998056123')-Decimal(-1)"
   ]
  },
  {
   "cell_type": "markdown",
   "metadata": {},
   "source": [
    "So what are the morals of this exercise: \n",
    "\n",
    "(1) you may not know exactly how things are coded inside numpy or scipy, you should be able to get a pretty good idea how they work \n",
    "\n",
    "(2) numerical techniques always have some error associated with them.  You can learn a lot about a code by understanding what controls the size of the error and trying to make it smaller \n",
    "\n",
    "(3) there are lots more options built into a scipy solver than you would want to code yourself.  But, the simplest implementations are often pretty close to what you do know how to code up yourself.  The complicated options are usually just the simple idea extended to higher order (more derivatives, more grid points, higher order polynomial extrolations, etc)"
   ]
  },
  {
   "cell_type": "markdown",
   "metadata": {},
   "source": [
    "## Interpolation"
   ]
  },
  {
   "cell_type": "code",
   "execution_count": 42,
   "metadata": {},
   "outputs": [],
   "source": [
    "from scipy import interpolate"
   ]
  },
  {
   "cell_type": "markdown",
   "metadata": {},
   "source": [
    "Sometimes you don't actually have the analytic form of a function you want to use. Instead you might have some raw data.  Alternatively, you have the function but calculating it is so slow you need to pre-compute it at a bunch of points before you can use it in some other applications (like integrating, equation solving, etc). "
   ]
  },
  {
   "cell_type": "markdown",
   "metadata": {},
   "source": [
    "This is when interpolation is super helpful.  Interpolation is just a rule for filling in the gaps in your function based on the data you have.  "
   ]
  },
  {
   "cell_type": "code",
   "execution_count": 43,
   "metadata": {},
   "outputs": [],
   "source": [
    "xI=np.linspace(0,np.pi,40)\n",
    "yI=np.sin(2*xI**2)"
   ]
  },
  {
   "cell_type": "code",
   "execution_count": 44,
   "metadata": {},
   "outputs": [
    {
     "data": {
      "image/png": "[encoded data removed]",
      "text/plain": [
       "<Figure size 432x288 with 1 Axes>"
      ]
     },
     "metadata": {
      "needs_background": "light"
     },
     "output_type": "display_data"
    }
   ],
   "source": [
    "plt.plot(xI,yI)\n",
    "plt.show()"
   ]
  },
  {
   "cell_type": "markdown",
   "metadata": {},
   "source": [
    "So that is our data.  Now we want to make a function that is defined on the entire range between the endpoints of our data"
   ]
  },
  {
   "cell_type": "markdown",
   "metadata": {},
   "source": [
    "Let's just try the 1d interpolate function out of the box and see what it does"
   ]
  },
  {
   "cell_type": "code",
   "execution_count": 45,
   "metadata": {},
   "outputs": [],
   "source": [
    "f_try = interpolate.interp1d(xI, yI)"
   ]
  },
  {
   "cell_type": "code",
   "execution_count": 46,
   "metadata": {},
   "outputs": [],
   "source": [
    "x_fine=np.linspace(0,np.pi,400)"
   ]
  },
  {
   "cell_type": "code",
   "execution_count": 47,
   "metadata": {},
   "outputs": [
    {
     "data": {
      "image/png": "[encoded data removed]",
      "text/plain": [
       "<Figure size 432x288 with 1 Axes>"
      ]
     },
     "metadata": {
      "needs_background": "light"
     },
     "output_type": "display_data"
    }
   ],
   "source": [
    "plt.plot(xI,yI)\n",
    "plt.plot(x_fine,f_try(x_fine))\n",
    "plt.show()"
   ]
  },
  {
   "cell_type": "markdown",
   "metadata": {},
   "source": [
    "Okay - so it looks like our default function is just drawing straight lines between the points.  This is exaclty what our plot is doing, and so we get the same sharp corners.  But if we fit with a polynomial between several points, we will get a smoother looking result.  E.g. using a cubic polynomial:"
   ]
  },
  {
   "cell_type": "code",
   "execution_count": 48,
   "metadata": {},
   "outputs": [],
   "source": [
    "f_cube= interpolate.interp1d(xI, yI,kind='cubic')"
   ]
  },
  {
   "cell_type": "code",
   "execution_count": 49,
   "metadata": {},
   "outputs": [
    {
     "data": {
      "image/png": "[encoded data removed]",
      "text/plain": [
       "<Figure size 432x288 with 1 Axes>"
      ]
     },
     "metadata": {
      "needs_background": "light"
     },
     "output_type": "display_data"
    }
   ],
   "source": [
    "plt.plot(xI,yI)\n",
    "plt.plot(x_fine,f_cube(x_fine))\n",
    "plt.show()"
   ]
  },
  {
   "cell_type": "code",
   "execution_count": 50,
   "metadata": {},
   "outputs": [
    {
     "data": {
      "image/png": "[encoded data removed]",
      "text/plain": [
       "<Figure size 432x288 with 1 Axes>"
      ]
     },
     "metadata": {
      "needs_background": "light"
     },
     "output_type": "display_data"
    }
   ],
   "source": [
    "plt.plot(x_fine,f_try(x_fine)-np.sin(2*x_fine**2))\n",
    "plt.plot(x_fine,f_cube(x_fine)-np.sin(2*x_fine**2))\n",
    "plt.show()"
   ]
  },
  {
   "cell_type": "code",
   "execution_count": 51,
   "metadata": {},
   "outputs": [
    {
     "data": {
      "image/png": "[encoded data removed]",
      "text/plain": [
       "<Figure size 432x288 with 1 Axes>"
      ]
     },
     "metadata": {
      "needs_background": "light"
     },
     "output_type": "display_data"
    }
   ],
   "source": [
    "plt.plot(x_fine,f_cube(x_fine)-np.sin(2*x_fine**2))\n",
    "plt.show()"
   ]
  },
  {
   "cell_type": "markdown",
   "metadata": {},
   "source": [
    "So we see that our initial function was making about a 10% error.  Using a cubic instead, we get less than 1%.  In fact, for the early points we do really well:"
   ]
  },
  {
   "cell_type": "code",
   "execution_count": 52,
   "metadata": {},
   "outputs": [
    {
     "data": {
      "image/png": "[encoded data removed]",
      "text/plain": [
       "<Figure size 432x288 with 1 Axes>"
      ]
     },
     "metadata": {
      "needs_background": "light"
     },
     "output_type": "display_data"
    }
   ],
   "source": [
    "plt.plot(x_fine,np.abs(f_cube(x_fine)-np.sin(2*x_fine**2)))\n",
    "plt.yscale('log')\n",
    "plt.show()"
   ]
  },
  {
   "cell_type": "markdown",
   "metadata": {},
   "source": [
    "So we are getting 1 part in a 100 000 up to about $x=1$ using only 40 data points for the full range of $[0,\\pi]$"
   ]
  },
  {
   "cell_type": "markdown",
   "metadata": {},
   "source": [
    "Notice that the interpolation is a function.  So we can also use this function inside of our solving code:"
   ]
  },
  {
   "cell_type": "code",
   "execution_count": 53,
   "metadata": {},
   "outputs": [
    {
     "data": {
      "text/plain": [
       "1.2532996656450621"
      ]
     },
     "execution_count": 53,
     "metadata": {},
     "output_type": "execute_result"
    }
   ],
   "source": [
    "optimize.newton(f_cube,1)"
   ]
  },
  {
   "cell_type": "code",
   "execution_count": 54,
   "metadata": {},
   "outputs": [
    {
     "data": {
      "text/plain": [
       "7.254977768854082e-05"
      ]
     },
     "execution_count": 54,
     "metadata": {},
     "output_type": "execute_result"
    }
   ],
   "source": [
    "np.sin(2*1.2532996656450606**2)"
   ]
  },
  {
   "cell_type": "code",
   "execution_count": null,
   "metadata": {},
   "outputs": [],
   "source": []
  }
 ],
 "metadata": {
  "kernelspec": {
   "display_name": "Python 3 (ipykernel)",
   "language": "python",
   "name": "python3"
  },
  "language_info": {
   "codemirror_mode": {
    "name": "ipython",
    "version": 3
   },
   "file_extension": ".py",
   "mimetype": "text/x-python",
   "name": "python",
   "nbconvert_exporter": "python",
   "pygments_lexer": "ipython3",
   "version": "3.9.7"
  }
 },
 "nbformat": 4,
 "nbformat_minor": 2
}
