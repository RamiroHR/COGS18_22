{
 "cells": [
  {
   "cell_type": "code",
   "execution_count": 2,
   "id": "349be19d",
   "metadata": {},
   "outputs": [],
   "source": [
    "import numpy as np\n",
    "import matplotlib.pyplot as plt"
   ]
  },
  {
   "cell_type": "markdown",
   "id": "2273fce0",
   "metadata": {},
   "source": [
    "## Bayes' Theorem"
   ]
  },
  {
   "cell_type": "markdown",
   "id": "79ba8338",
   "metadata": {},
   "source": [
    "We have talked about data analysis thus far with using the word \"error bar\".  This is a somewhat shocking omision, as data without errors are pretty useless. However, our goal in this course is not just to give you a tool that you don't understand, but to teach you what the tools are for.  Error bars are an extreme example, as they are both the most important part of any scientific analysis and yet are the piece most likely to be wrong.\n",
    "\n",
    "A good way understand errors and apply them effectively is to think like a Bayesian.  The reason is that it puts you and your hypotheses right in the middle of the action so that you can see how your choices matter."
   ]
  },
  {
   "cell_type": "markdown",
   "id": "bf98f1a0",
   "metadata": {},
   "source": [
    "To get us started, this is Bayes' Theorem:\n",
    "$$P(H | D) = P(H) P(D|H) / P(D)$$\n",
    "Where $P(H|D)$ is the probability of the Hypothesis ($H$) given the data ($D$) and vise versa for $P(D|H)$, and $P(H)$ ($P(D)$) is the probability of the hypothesis (data).\n",
    "\n",
    "I always find this very hard to understand.  There are a bunch of variables I don't know what they mean.  So, let's think about a simple example:  "
   ]
  },
  {
   "cell_type": "markdown",
   "id": "3cb65778",
   "metadata": {},
   "source": [
    "### Example: Hit by a Taxi"
   ]
  },
  {
   "cell_type": "markdown",
   "id": "04c25599",
   "metadata": {},
   "source": [
    "You live in a place where the are 85 percent green taxis and 15 percent blue taxis.  You got hit by a taxi and a witness claims it was blue.  However, it is determined that eye-witness are accurate about 80 percent of the time and mis-identify the color 20 percent of the time.\n",
    "\n",
    "So the question is \"what is the probability you were hit by a blue cab?\".  So, our hypothesis ($H$) is that we you hit by a blue cab and we want to compute $P(H|D)$, given the data ($D$) that someone saw a blue cab.  If we didn't know the theorem, what would we do?  We would say, the probably a blue cab was involved, knowing nothing else is 15 percent ($P(H) =0.15)$) and the probably that someone would see a blue cab if it was a blue cab is 80 percent ($P(D|H) = 0.80$).  The answer is not $0.15 \\times 0.80$ because (1) this makes no sense - even when $P(D|H) =1$ it gives a small probability and (2) the probabilities of the 2 possibilities don't add to 1 - $0.15 \\times 0.8 + 0.85 \\times 0.2 \\neq 1$.  To normalize our answer correclty, we need to divide by all the different ways we could arrive at the data, namely $0.15 \\times 0.8 + 0.85 \\times 0.2$.  So, our answer is\n",
    "\n",
    "$$P(H={\\rm blue}|D) = \\frac{0.15 \\times 0.8}{0.15 \\times 0.8 + 0.85 \\times 0.2} \\sim 0.41$$\n",
    "\n",
    "Notice that if if the eye witness is perfect ($P(D|H) = 1$), our answer is 1, as it should be."
   ]
  },
  {
   "cell_type": "markdown",
   "id": "d55e37bc",
   "metadata": {},
   "source": [
    "The probability of the data, $P(D)$, doesn't actually depend on the hypothesis: it is a sum over all possibilities.  Its role in life is just to make the probability normalized to one.  To see this, we note that the only two options are that you got hit by a blue taxi or a green taxi.  If we were to now ask \"what is the probability you were hit by a green taxi?\", we would have to change $𝑃(𝐷|𝐻)=0.2$ (there is only a 20\\% chance that the witness would think it was blue if it was really green) but the probability of the hypothesis itself should $P(H) = 0.85$ since 85\\% of taxis are green.  But the probability of the data stays the same, since we already enumated all the possibilities.  This means that\n",
    "$$P(H={\\rm Green}|D) = \\frac{0.2 \\times 0.85}{0.15 \\times 0.8 + 0.85 \\times 0.2} \\sim 0.59$$\n",
    "Notice that now \n",
    "$$P(H={\\rm Green}|D) + P(H={\\rm Blue}|D) = 1$$\n",
    "This is really what Bayes' theorem is all about: one of the hypotheses must be true, so if $P(H|D)$ is really a probability, then it must add to up one when we sum over all the possibility.  Bayes' theorem is just reminding us how to do that."
   ]
  },
  {
   "cell_type": "markdown",
   "id": "a6cd3f8f",
   "metadata": {},
   "source": [
    "## Application: coin flipping"
   ]
  },
  {
   "cell_type": "markdown",
   "id": "7973a77d",
   "metadata": {},
   "source": [
    "Suppose we have a coin that gives us heads with probability $p$ and tails with probability $1-p$ where $p \\in [0,1]$ is unknown to us.  Now I flip the coin $1000$ times and get $550$ heads and $450$ tails.  What do you think $p$ is?"
   ]
  },
  {
   "cell_type": "markdown",
   "id": "9e083761",
   "metadata": {},
   "source": [
    "One way to look at it is to simply simulate what happenss with a fair coin as ask it how often you get 550 heads.  Let's try 1000 simulations:"
   ]
  },
  {
   "cell_type": "code",
   "execution_count": 3,
   "id": "3dc507a4",
   "metadata": {},
   "outputs": [],
   "source": [
    "N_sims=1000\n",
    "heads=np.zeros(N_sims)\n",
    "for i in range(N_sims):\n",
    "    heads[i]=np.random.randint(2,size=1000).sum()"
   ]
  },
  {
   "cell_type": "code",
   "execution_count": 4,
   "id": "2cbad74d",
   "metadata": {},
   "outputs": [
    {
     "data": {
      "image/png": "[encoded data removed]",
      "text/plain": [
       "<Figure size 432x288 with 1 Axes>"
      ]
     },
     "metadata": {
      "needs_background": "light"
     },
     "output_type": "display_data"
    }
   ],
   "source": [
    "fig,ax=plt.subplots()\n",
    "ax.hist(heads,bins=20)\n",
    "plt.show()"
   ]
  },
  {
   "cell_type": "code",
   "execution_count": 5,
   "id": "c3cc6fef",
   "metadata": {},
   "outputs": [
    {
     "data": {
      "text/plain": [
       "554.0"
      ]
     },
     "execution_count": 5,
     "metadata": {},
     "output_type": "execute_result"
    }
   ],
   "source": [
    "heads.max()"
   ]
  },
  {
   "cell_type": "markdown",
   "id": "97263bc3",
   "metadata": {},
   "source": [
    "Getting 550 heads is possible but very unlikely when $p=1/2$ (a fair coin).  Instead, let's apply the machinary of Bayes:"
   ]
  },
  {
   "cell_type": "markdown",
   "id": "b188d5bb",
   "metadata": {},
   "source": [
    "Let's say we have $N$ total flips and get $n$ heads.  The probably of finding $n$ heads for a given $p$ gives us the probabability of the data (the likelihood):\n",
    "$$P(D | H) = P(n | r) = p^n (1-p)^{N-n} \\Big(\\frac{N}{n} \\Big)$$\n",
    "where we have the binomial coefficient $\\Big(\\frac{N}{n} \\Big)$ which accounts for all the possible ways of getting $n$ heads (e.g. if you get only $n=1$, it could have been on the first, second...,last flip of the coin).\n",
    "\n",
    "We have no idea what the probably of the different models is, so we will assume a flat distribution $P(p) = $ constant.  Finally, we need to normalize the result by dividing by the integral over $p$, such that\n",
    "$$P(p| n ) =  p^n (1-p)^{N-n} \\Big(\\frac{N}{n} \\Big) /(\\int_0^1 dp p^n (1-p)^{N-n} \\Big(\\frac{N}{n} \\Big))$$\n"
   ]
  },
  {
   "cell_type": "markdown",
   "id": "05a294c8",
   "metadata": {},
   "source": [
    "Let's apply this to $N=1000$ and $n=550$:"
   ]
  },
  {
   "cell_type": "code",
   "execution_count": 6,
   "id": "c0cf5ab3",
   "metadata": {},
   "outputs": [],
   "source": [
    "from scipy import integrate\n",
    "from scipy import special"
   ]
  },
  {
   "cell_type": "code",
   "execution_count": 7,
   "id": "c9873350",
   "metadata": {},
   "outputs": [
    {
     "data": {
      "text/plain": [
       "(0.14876167743337448, 4.263789920566359e-09)"
      ]
     },
     "execution_count": 7,
     "metadata": {},
     "output_type": "execute_result"
    }
   ],
   "source": [
    "integrate.quad(lambda p:p**(550)*(1-p)**(450)*special.binom(1000,500),0,1)"
   ]
  },
  {
   "cell_type": "code",
   "execution_count": 8,
   "id": "d2e3cdd7",
   "metadata": {},
   "outputs": [
    {
     "data": {
      "text/plain": [
       "(0.5, 0.6)"
      ]
     },
     "execution_count": 8,
     "metadata": {},
     "output_type": "execute_result"
    },
    {
     "data": {
      "image/png": "[encoded data removed]",
      "text/plain": [
       "<Figure size 864x432 with 2 Axes>"
      ]
     },
     "metadata": {
      "needs_background": "light"
     },
     "output_type": "display_data"
    }
   ],
   "source": [
    "p_lin=np.linspace(0,1,1000)\n",
    "fig,ax=plt.subplots(figsize=(12,6),ncols=2)\n",
    "ax[0].plot(p_lin,p_lin**(550)*(1-p_lin)**(450)*special.binom(1000,500)/0.14876167743337448)\n",
    "ax[1].plot(p_lin,p_lin**(550)*(1-p_lin)**(450)*special.binom(1000,500)/0.14876167743337448)\n",
    "ax[1].set_xlim(0.5,0.6)"
   ]
  },
  {
   "cell_type": "markdown",
   "id": "bb51f96b",
   "metadata": {},
   "source": [
    "Note: the binomial coefficients are totally unnecessary but they keep us from multiplying and dividing by very small numbers:"
   ]
  },
  {
   "cell_type": "code",
   "execution_count": 9,
   "id": "cca88ba7",
   "metadata": {},
   "outputs": [
    {
     "data": {
      "text/plain": [
       "(5.505028184578253e-301, 9.11751014007829e-301)"
      ]
     },
     "execution_count": 9,
     "metadata": {},
     "output_type": "execute_result"
    }
   ],
   "source": [
    "integrate.quad(lambda p:p**(550)*(1-p)**(450),0,1)"
   ]
  },
  {
   "cell_type": "markdown",
   "id": "def20ffe",
   "metadata": {},
   "source": [
    "Now we can still compare to simulations.  Notice that our distribution is peark at 0.55 =550/1000, so we can simulate $p=0.55$ and compare to our figure"
   ]
  },
  {
   "cell_type": "code",
   "execution_count": 10,
   "id": "0f87732e",
   "metadata": {},
   "outputs": [],
   "source": [
    "N_sims=1000\n",
    "heads_p=np.zeros(N_sims)\n",
    "for i in range(N_sims):\n",
    "    heads_p[i]=(np.random.rand(1000) < 0.55).sum()/1000.   "
   ]
  },
  {
   "cell_type": "code",
   "execution_count": 13,
   "id": "4aacea67",
   "metadata": {},
   "outputs": [
    {
     "data": {
      "text/plain": [
       "(0.5, 0.6)"
      ]
     },
     "execution_count": 13,
     "metadata": {},
     "output_type": "execute_result"
    },
    {
     "data": {
      "image/png": "[encoded data removed]",
      "text/plain": [
       "<Figure size 432x288 with 1 Axes>"
      ]
     },
     "metadata": {
      "needs_background": "light"
     },
     "output_type": "display_data"
    }
   ],
   "source": [
    "fig,ax=plt.subplots()\n",
    "ax.hist(heads_p,bins=100)\n",
    "ax.plot(p_lin,p_lin**(550)*(1-p_lin)**(450)*special.binom(1000,500)/0.14876167743337448)\n",
    "ax.set_xlim(0.5,0.6)"
   ]
  },
  {
   "cell_type": "markdown",
   "id": "e024bd35",
   "metadata": {},
   "source": [
    "## Gaussian Noise"
   ]
  },
  {
   "cell_type": "markdown",
   "id": "6bf9b543",
   "metadata": {},
   "source": [
    "Now let us return to our previous discussion of data where we had a deterministic model for the signal and a random source of noise \n",
    "$$ data(t)=S(t) + noise(t)$$ \n",
    "The noise is drawn from a Gaussian distribution with a standard deviation $\\sigma$"
   ]
  },
  {
   "cell_type": "code",
   "execution_count": null,
   "id": "43c1dca8",
   "metadata": {},
   "outputs": [],
   "source": []
  }
 ],
 "metadata": {
  "kernelspec": {
   "display_name": "Python 3 (ipykernel)",
   "language": "python",
   "name": "python3"
  },
  "language_info": {
   "codemirror_mode": {
    "name": "ipython",
    "version": 3
   },
   "file_extension": ".py",
   "mimetype": "text/x-python",
   "name": "python",
   "nbconvert_exporter": "python",
   "pygments_lexer": "ipython3",
   "version": "3.9.7"
  }
 },
 "nbformat": 4,
 "nbformat_minor": 5
}
